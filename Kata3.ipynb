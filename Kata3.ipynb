{
 "cells": [
  {
   "cell_type": "markdown",
   "metadata": {},
   "source": [
    "# Escribir declaraciones"
   ]
  },
  {
   "cell_type": "markdown",
   "metadata": {},
   "source": [
    "# Ejercicio 1"
   ]
  },
  {
   "cell_type": "code",
   "execution_count": 7,
   "metadata": {},
   "outputs": [
    {
     "name": "stdout",
     "output_type": "stream",
     "text": [
      "Todo en orden\n"
     ]
    }
   ],
   "source": [
    "asteroide1 = 14\n",
    "if asteroide1 > 25:\n",
    "    print('¡Atención, peligro!')\n",
    "else:\n",
    "    print('Todo se encuentra en orden')\n"
   ]
  },
  {
   "cell_type": "markdown",
   "metadata": {},
   "source": [
    "# Ejercicio 2"
   ]
  },
  {
   "cell_type": "code",
   "execution_count": 9,
   "metadata": {},
   "outputs": [
    {
     "name": "stdout",
     "output_type": "stream",
     "text": [
      "Todo en orden\n"
     ]
    }
   ],
   "source": [
    "asteroide = 18\n",
    "if asteroide > 18:\n",
    "    print('¡Ateroide grande!')\n",
    "elif asteroide == 13:\n",
    "    print('Asteroide pequeño')\n",
    "else:\n",
    "    print('Todo en orden')"
   ]
  },
  {
   "cell_type": "markdown",
   "metadata": {},
   "source": [
    "# Ejercicio 3"
   ]
  },
  {
   "cell_type": "code",
   "execution_count": 11,
   "metadata": {},
   "outputs": [
    {
     "name": "stdout",
     "output_type": "stream",
     "text": [
      "¡PELIGRO!\n"
     ]
    }
   ],
   "source": [
    "velocidad_aster = 45\n",
    "tamano_aster = 38\n",
    "if velocidad_aster > 25 and tamano_aster > 28:\n",
    "    print('¡Danger!')\n",
    "elif velocidad_aster >= 15:\n",
    "    print('Atencion')\n",
    "elif tamano_aster < 15:\n",
    "    print(\"Todo en orden\")\n",
    "else:\n",
    "    print('Calma')"
   ]
  }
 ],
 "metadata": {
  "interpreter": {
   "hash": "43a6b6b61a17a1dd6a65bcbfe5f43a6c05f6550ff2711588be60ee87677c3861"
  },
  "kernelspec": {
   "display_name": "Python 3.9.0 64-bit",
   "language": "python",
   "name": "python3"
  },
  "language_info": {
   "codemirror_mode": {
    "name": "ipython",
    "version": 3
   },
   "file_extension": ".py",
   "mimetype": "text/x-python",
   "name": "python",
   "nbconvert_exporter": "python",
   "pygments_lexer": "ipython3",
   "version": "3.9.0"
  },
  "orig_nbformat": 4
 },
 "nbformat": 4,
 "nbformat_minor": 2
}
